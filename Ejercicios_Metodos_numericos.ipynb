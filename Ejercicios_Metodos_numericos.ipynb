{
  "cells": [
    {
      "cell_type": "markdown",
      "metadata": {
        "id": "view-in-github",
        "colab_type": "text"
      },
      "source": [
        "<a href=\"https://colab.research.google.com/github/Julianr98/AirBnB_clone_v4/blob/master/Ejercicios_Metodos_numericos.ipynb\" target=\"_parent\"><img src=\"https://colab.research.google.com/assets/colab-badge.svg\" alt=\"Open In Colab\"/></a>"
      ]
    },
    {
      "cell_type": "markdown",
      "metadata": {
        "id": "q4JxZTT6ji-q"
      },
      "source": [
        "# Librerías a utilizar"
      ]
    },
    {
      "cell_type": "code",
      "execution_count": 1,
      "metadata": {
        "id": "4MvVqK4oji-2"
      },
      "outputs": [],
      "source": [
        "import numpy as np # Operaciones algebraicas\n",
        "import matplotlib.pyplot as plt # Gráficos\n",
        "import math # Operaciones matemáticas"
      ]
    },
    {
      "cell_type": "markdown",
      "metadata": {
        "id": "ULEpSu9Fji--"
      },
      "source": [
        "# Librería de métodos numéricos: Newton Raphson y Bissección"
      ]
    },
    {
      "cell_type": "code",
      "execution_count": 2,
      "metadata": {
        "id": "eJwPyAq6ji-_"
      },
      "outputs": [],
      "source": [
        "def biseccion(fname,a,b,toler,it_lim):\n",
        "    # Método de Biseccion para cero de funciones no lineales en R.\n",
        "    # Objetivo: Encontrar una raíz de una función\n",
        "    # argumentos:\n",
        "    #    fname : el nombre de la funcion f(x)\n",
        "    #    a,b   : valores extremos del intervalo inicial donde esta la raíz\n",
        "    #    toler : tolerancia\n",
        "    #    it_lim: límite del número de iteraciones\n",
        "    #    Giovanni Calderon UTS-febrero-2021\n",
        "    print('Método de la bisección:')\n",
        "    print('  It.     a        c         b         Y(c)\\n')\n",
        "\n",
        "    it  = 0\n",
        "    Y_a = fname(a) #estamos evaluando a la funcion f(x)\n",
        "    Y_b = fname(b)\n",
        "    if (Y_a*Y_b > 0):\n",
        "       print('Detenido porque f(a)*f(b) > 0 ')\n",
        "       print({\"f(a)\":Y_a,\"f(b)\":Y_b})\n",
        "       return \"Unfeasible\"\n",
        "    else:\n",
        "         while 1:\n",
        "             it += 1\n",
        "             c = (a+b)/2\n",
        "             Y_c = fname(c)\n",
        "             print('{0:3} {1:3.8f} {2:3.8f} {3:3.8f} {4:3.8f}\\n'.format(it,a,c,b,Y_c))\n",
        "             #print('{0:3.8f}\\n'.format(c));\n",
        "             if (Y_a*Y_c <= 0):\n",
        "                b = c\n",
        "                Y_b = Y_c\n",
        "             else:\n",
        "                a = c\n",
        "                Y_a = Y_c\n",
        "             if(abs(b-a)/2 <= toler):\n",
        "                print('Se satisface la tolerancia')\n",
        "                break\n",
        "             if(it > it_lim):\n",
        "                print('Se excedió límite de iteraciones.')\n",
        "                break\n",
        "    print('La raíz aproxima es: {0:3.8f}'.format(c))\n",
        "    return c\n",
        "\n",
        "\n",
        "def newton(fname,fprima,x0,toler,it_lim):\n",
        "    # Método de Newton para cero de funciones no lineales en R.\n",
        "    # Objetivo: Encontrar una raíz de una función\n",
        "    # argumentos:\n",
        "    #    fname : el nombre de la funcion f(x)\n",
        "    #    fprima: el nombre de la derivada f'(x)\n",
        "    #    x0    : estimación inicial para la raiz\n",
        "    #    toler : tolerancia\n",
        "    #    it_lim: límite del número de iteraciones\n",
        "    #    Giovanni Calderon UTS-febrero-2021\n",
        "    print('Método iterativo de Newton:\\n')\n",
        "    print('  It.         x            y  \\n')\n",
        "    x = x0\n",
        "    it = 1\n",
        "    xb = x\n",
        "    while 1:\n",
        "        yx = fname(xb)\n",
        "        yd = fprima(xb)\n",
        "        x = xb - yx/yd\n",
        "        print('{0:3} {1:15.8f} {2:15.8f}\\n'.format(it,x,yx))\n",
        "        if (abs(x-xb) < toler):\n",
        "           print('Se satisface la tolerancia.\\n')\n",
        "           break\n",
        "        it = it+1\n",
        "        xb = x\n",
        "        if (it > it_lim):\n",
        "           print('Se excedió límite de iteraciones.\\n')\n",
        "           break\n",
        "    print('La raíz aproxima es: {0:3.8f}'.format(x))\n",
        "    return x"
      ]
    },
    {
      "cell_type": "markdown",
      "metadata": {
        "id": "C52p1piHji_G"
      },
      "source": [
        "# Punto 1"
      ]
    },
    {
      "cell_type": "markdown",
      "metadata": {
        "id": "h_5YLL0_ji_H"
      },
      "source": [
        "Método escogido: Newton"
      ]
    },
    {
      "cell_type": "code",
      "execution_count": 3,
      "metadata": {
        "colab": {
          "base_uri": "https://localhost:8080/"
        },
        "id": "HlbU0WfAji_I",
        "outputId": "3460415d-2aa7-4ab7-b954-40d76bfd426d"
      },
      "outputs": [
        {
          "output_type": "stream",
          "name": "stdout",
          "text": [
            "Método iterativo de Newton:\n",
            "\n",
            "  It.         x            y  \n",
            "\n",
            "  1      0.00167064 1445895.92457612\n",
            "\n",
            "  2      0.00138618 785343.50442346\n",
            "\n",
            "  3     -0.00024933 490560.83627315\n",
            "\n",
            "  4     -0.00052813 -1968955.50207190\n",
            "\n",
            "  5     -0.00132769 -1077546.44500919\n",
            "\n",
            "  6     -0.00049552 -1069878.93638341\n",
            "\n",
            "  7     -0.00120818 -1125147.33964439\n",
            "\n",
            "  8      0.00009429 -952190.59917579\n",
            "\n",
            "  9      0.00018689 4687183.60882481\n",
            "\n",
            "Se satisface la tolerancia.\n",
            "\n",
            "La raíz aproxima es: 0.00018689\n",
            "Volumen específico (Newton): 0.00018688970996822216\n"
          ]
        }
      ],
      "source": [
        "# Definir las constantes del problema  cálculo de volumen especifico la ecuación de Redlich-Kwong para el metano a una temperatura y presión específicas.\n",
        "R = 0.518  # Constante universal de los gases [kJ/(kg*K)]\n",
        "T_c = 191  # Temperatura crítica del metano [K]\n",
        "P_c = 4580  # Presión crítica del metano [kPa]\n",
        "volumen_tanque = 3  # Volumen del tanque [m^3]\n",
        "T = -50 + 273.15  # Convertir temperatura de °C a Kelvin [K]\n",
        "P = 65000  # Presión absoluta [kPa]\n",
        "\n",
        "# Calcular los parámetros a y b de la ecuación de Redlich-Kwong\n",
        "a = 0.427 * (R**2 * T_c**2.5) / P_c\n",
        "b = 0.0866 * R * T_c / P_c\n",
        "\n",
        "# Función de la ecuación de Redlich-Kwong\n",
        "def RK_equation(v):\n",
        "    return P - (R*T)/(v - b) + a/(v*(v + b)*np.sqrt(T))\n",
        "\n",
        "# Estimar inicialmente el volumen específico v\n",
        "v_initial = R * T / P  # Aproximación usando la ecuación de gas ideal\n",
        "\n",
        "# Derivada de la ecuación de Redlich-Kwong\n",
        "def RK_equation_derivative(v):\n",
        "    term1 = R*T / (v - b)**2\n",
        "    term2 = -a*(2*v + b) / (v**2 + v*b)**2 / np.sqrt(T)\n",
        "    return term1 + term2\n",
        "\n",
        "# Siempre en la estimación de inicial se debe usar una estimación razonable\n",
        "# En este caso se puede usar una estimación inicial basada en la ecuación del gas ideal\n",
        "v_newton = newton(RK_equation, RK_equation_derivative, v_initial, 1e-4, 100)\n",
        "\n",
        "print(f\"Volumen específico (Newton): {v_newton}\")"
      ]
    },
    {
      "cell_type": "markdown",
      "metadata": {
        "id": "lQTy3SCyji_K"
      },
      "source": [
        "# Punto 2"
      ]
    },
    {
      "cell_type": "code",
      "execution_count": 4,
      "metadata": {
        "colab": {
          "base_uri": "https://localhost:8080/"
        },
        "id": "BzrnrwQ3ji_M",
        "outputId": "8ef79442-9539-459e-ebeb-0debb0692d0a"
      },
      "outputs": [
        {
          "output_type": "stream",
          "name": "stdout",
          "text": [
            "Método de la bisección:\n",
            "  It.     a        c         b         Y(c)\n",
            "\n",
            "  1 0.00000000 3.00000000 6.00000000 -42.04815609\n",
            "\n",
            "  2 0.00000000 1.50000000 3.00000000 -13.02109225\n",
            "\n",
            "  3 0.00000000 0.75000000 1.50000000 0.34451350\n",
            "\n",
            "  4 0.75000000 1.12500000 1.50000000 -5.99143355\n",
            "\n",
            "  5 0.75000000 0.93750000 1.12500000 -2.71275990\n",
            "\n",
            "  6 0.75000000 0.84375000 0.93750000 -1.15294784\n",
            "\n",
            "  7 0.75000000 0.79687500 0.84375000 -0.39594103\n",
            "\n",
            "  8 0.75000000 0.77343750 0.79687500 -0.02358103\n",
            "\n",
            "  9 0.75000000 0.76171875 0.77343750 0.16100762\n",
            "\n",
            " 10 0.76171875 0.76757812 0.77343750 0.06884761\n",
            "\n",
            " 11 0.76757812 0.77050781 0.77343750 0.02266674\n",
            "\n",
            " 12 0.77050781 0.77197266 0.77343750 -0.00044880\n",
            "\n",
            " 13 0.77050781 0.77124023 0.77197266 0.01111106\n",
            "\n",
            " 14 0.77124023 0.77160645 0.77197266 0.00533165\n",
            "\n",
            " 15 0.77160645 0.77178955 0.77197266 0.00244156\n",
            "\n",
            " 16 0.77178955 0.77188110 0.77197266 0.00099641\n",
            "\n",
            " 17 0.77188110 0.77192688 0.77197266 0.00027381\n",
            "\n",
            " 18 0.77192688 0.77194977 0.77197266 -0.00008749\n",
            "\n",
            " 19 0.77192688 0.77193832 0.77194977 0.00009316\n",
            "\n",
            "Se satisface la tolerancia\n",
            "La raíz aproxima es: 0.77193832\n",
            "La profundidad del líquido h es: 0.7719383239746094 m\n"
          ]
        },
        {
          "output_type": "stream",
          "name": "stderr",
          "text": [
            "<ipython-input-4-d5b248bc2217>:8: RuntimeWarning: invalid value encountered in arccos\n",
            "  theta = np.arccos((r - h) / r)\n",
            "<ipython-input-4-d5b248bc2217>:10: RuntimeWarning: invalid value encountered in sqrt\n",
            "  term2 = (r - h) * np.sqrt(2*r*h - h**2)\n"
          ]
        }
      ],
      "source": [
        "# Datos del problema para el Punto 2.  cálculo de la profundidad del líquido en un tanque cilíndrico horizontal utilizando el método de bisección\n",
        "r = 2  # radio del tanque [m]\n",
        "L = 5  # longitud del tanque [m]\n",
        "V = 8.5  # volumen de líquido [m^3]\n",
        "\n",
        "# Función del volumen en función de la profundidad h\n",
        "def volume(h, r, L):\n",
        "    theta = np.arccos((r - h) / r)\n",
        "    term1 = r**2 * theta\n",
        "    term2 = (r - h) * np.sqrt(2*r*h - h**2)\n",
        "    return (term1 - term2) * L\n",
        "\n",
        "# Función que representa la ecuación a resolver\n",
        "def func_to_solve(h):\n",
        "    return V - volume(h, r, L)  # Igualar a 0\n",
        "\n",
        "# Derivada de la función del volumen respecto a h\n",
        "def derivative_volume(h, r, L):\n",
        "    # Aproximación numérica de la derivada\n",
        "    delta_h = 1e-5\n",
        "    return (volume(h + delta_h, r, L) - volume(h, r, L)) / delta_h\n",
        "\n",
        "# Método de bisección\n",
        "h_biseccion = biseccion(func_to_solve, 0, 6, 1e-5, 100)\n",
        "\n",
        "# Resultado\n",
        "print(f\"La profundidad del líquido h es: {h_biseccion} m\")"
      ]
    },
    {
      "cell_type": "markdown",
      "metadata": {
        "id": "5YSiNfMIji_N"
      },
      "source": [
        "# Punto 3"
      ]
    },
    {
      "cell_type": "code",
      "execution_count": 5,
      "metadata": {
        "id": "E2LyeyfVji_N",
        "outputId": "b9931347-9fa1-4318-c72b-849193067f45",
        "colab": {
          "base_uri": "https://localhost:8080/"
        }
      },
      "outputs": [
        {
          "output_type": "stream",
          "name": "stdout",
          "text": [
            "Método de la bisección:\n",
            "  It.     a        c         b         Y(c)\n",
            "\n",
            "  1 0.00800000 0.05400000 0.10000000 -1.82061612\n",
            "\n",
            "  2 0.00800000 0.03100000 0.05400000 -0.22319012\n",
            "\n",
            "  3 0.00800000 0.01950000 0.03100000 1.44654102\n",
            "\n",
            "  4 0.01950000 0.02525000 0.03100000 0.47329851\n",
            "\n",
            "  5 0.02525000 0.02812500 0.03100000 0.09931243\n",
            "\n",
            "  6 0.02812500 0.02956250 0.03100000 -0.06759925\n",
            "\n",
            "  7 0.02812500 0.02884375 0.02956250 0.01435508\n",
            "\n",
            "  8 0.02884375 0.02920313 0.02956250 -0.02698609\n",
            "\n",
            "  9 0.02884375 0.02902344 0.02920313 -0.00640788\n",
            "\n",
            " 10 0.02884375 0.02893359 0.02902344 0.00395033\n",
            "\n",
            " 11 0.02893359 0.02897852 0.02902344 -0.00123457\n",
            "\n",
            " 12 0.02893359 0.02895605 0.02897852 0.00135642\n",
            "\n",
            " 13 0.02895605 0.02896729 0.02897852 0.00006056\n",
            "\n",
            "Se satisface la tolerancia\n",
            "La raíz aproxima es: 0.02896729\n",
            "\n",
            "Factor de fricción para el tubo liso (bisección): 0.02897\n",
            "Caída de presión en el tubo liso (bisección): 1140.15 Pa\n",
            "\n",
            "Método de la bisección:\n",
            "  It.     a        c         b         Y(c)\n",
            "\n",
            "  1 0.00800000 0.05400000 0.10000000 -0.68140995\n",
            "\n",
            "  2 0.00800000 0.03100000 0.05400000 0.76021415\n",
            "\n",
            "  3 0.03100000 0.04250000 0.05400000 -0.10744105\n",
            "\n",
            "  4 0.03100000 0.03675000 0.04250000 0.27556047\n",
            "\n",
            "  5 0.03675000 0.03962500 0.04250000 0.07367620\n",
            "\n",
            "  6 0.03962500 0.04106250 0.04250000 -0.01925068\n",
            "\n",
            "  7 0.03962500 0.04034375 0.04106250 0.02659446\n",
            "\n",
            "  8 0.04034375 0.04070313 0.04106250 0.00352072\n",
            "\n",
            "  9 0.04070313 0.04088281 0.04106250 -0.00790236\n",
            "\n",
            " 10 0.04070313 0.04079297 0.04088281 -0.00220021\n",
            "\n",
            " 11 0.04070313 0.04074805 0.04079297 0.00065790\n",
            "\n",
            " 12 0.04074805 0.04077051 0.04079297 -0.00077175\n",
            "\n",
            " 13 0.04074805 0.04075928 0.04077051 -0.00005707\n",
            "\n",
            " 14 0.04074805 0.04075366 0.04075928 0.00030038\n",
            "\n",
            " 15 0.04075366 0.04075647 0.04075928 0.00012164\n",
            "\n",
            " 16 0.04075647 0.04075787 0.04075928 0.00003228\n",
            "\n",
            "Se satisface la tolerancia\n",
            "La raíz aproxima es: 0.04075787\n",
            "\n",
            "Factor de fricción para el tubo rugoso (bisección): 0.04076\n",
            "Caída de presión en el tubo rugoso (bisección): 1604.23 Pa\n",
            "\n"
          ]
        }
      ],
      "source": [
        "# Datos del problema para el tubo liso.calcula el factor de fricción y la caída de presión en un tubo liso y en un tubo rugoso utilizando la ecuación de Colebrook para el cálculo de la fricción en flujos turbulentos en tuberías.\n",
        "rho = 1.23  # densidad [kg/m³]\n",
        "mu = 1.79e-5  # viscosidad dinámica [N·s/m²]\n",
        "D = 0.005  # diámetro [m]\n",
        "V = 40  # velocidad [m/s]\n",
        "epsilon_liso = 0.0015 / 1000  # rugosidad [m]\n",
        "L = 0.2  # longitud del tubo [m]\n",
        "Re = rho * V * D / mu  # número de Reynolds\n",
        "\n",
        "# Función de Colebrook adaptada\n",
        "def colebrook(f, epsilon, D, Re):\n",
        "    return 1 / np.sqrt(f) + 2.0 * np.log10(epsilon / (3.7 * D) + 2.51 / (Re * np.sqrt(f)))\n",
        "\n",
        "# Aproximación numérica de la derivada de Colebrook respecto a f\n",
        "def derivative_colebrook(f, epsilon, D, Re):\n",
        "    delta_f = 1e-6\n",
        "    return (colebrook(f + delta_f, epsilon, D, Re) - colebrook(f, epsilon, D, Re)) / delta_f\n",
        "\n",
        "# Método de bisección para el tubo liso\n",
        "f_liso_biseccion = biseccion(lambda f: colebrook(f, epsilon_liso, D, Re), 0.008, 0.1, 1e-5, 100)\n",
        "\n",
        "# Cálculo de la caída de presión para el tubo liso\n",
        "delta_p_liso_biseccion = f_liso_biseccion * (L / D) * (rho * V**2) / 2\n",
        "\n",
        "print()\n",
        "print(f\"Factor de fricción para el tubo liso (bisección): {f_liso_biseccion:.5f}\")\n",
        "print(f\"Caída de presión en el tubo liso (bisección): {delta_p_liso_biseccion:.2f} Pa\")\n",
        "print()\n",
        "\n",
        "\n",
        "# Datos del problema para el tubo rugoso\n",
        "epsilon_rugoso = 0.045 / 1000  # rugosidad [m]\n",
        "\n",
        "# Método de bisección para el tubo rugoso\n",
        "f_rugoso_biseccion = biseccion(lambda f: colebrook(f, epsilon_rugoso, D, Re), 0.008, 0.1, 1e-6, 100)\n",
        "\n",
        "# Cálculo de la caída de presión para el tubo rugoso\n",
        "delta_p_rugoso_biseccion = f_rugoso_biseccion * (L / D) * (rho * V**2) / 2\n",
        "\n",
        "print()\n",
        "print(f\"Factor de fricción para el tubo rugoso (bisección): {f_rugoso_biseccion:.5f}\")\n",
        "print(f\"Caída de presión en el tubo rugoso (bisección): {delta_p_rugoso_biseccion:.2f} Pa\")\n",
        "print()\n"
      ]
    },
    {
      "cell_type": "markdown",
      "metadata": {
        "id": "Xm0Lhzwcji_P"
      },
      "source": [
        "# Punto 4"
      ]
    },
    {
      "cell_type": "code",
      "execution_count": 6,
      "metadata": {
        "id": "tHbEZl1Dji_Q",
        "outputId": "9cb8d7c1-4732-480a-9d25-a9733779ac34",
        "colab": {
          "base_uri": "https://localhost:8080/"
        }
      },
      "outputs": [
        {
          "output_type": "stream",
          "name": "stdout",
          "text": [
            "Método de la bisección:\n",
            "  It.     a        c         b         Y(c)\n",
            "\n",
            "  1 0.00010000 0.05005000 0.10000000 0.01813822\n",
            "\n",
            "  2 0.00010000 0.02507500 0.05005000 0.00030982\n",
            "\n",
            "  3 0.00010000 0.01258750 0.02507500 -0.00618154\n",
            "\n",
            "  4 0.01258750 0.01883125 0.02507500 -0.00329998\n",
            "\n",
            "  5 0.01883125 0.02195313 0.02507500 -0.00156412\n",
            "\n",
            "  6 0.02195313 0.02351406 0.02507500 -0.00064253\n",
            "\n",
            "  7 0.02351406 0.02429453 0.02507500 -0.00017000\n",
            "\n",
            "  8 0.02429453 0.02468477 0.02507500 0.00006902\n",
            "\n",
            "  9 0.02429453 0.02448965 0.02468477 -0.00005071\n",
            "\n",
            " 10 0.02448965 0.02458721 0.02468477 0.00000910\n",
            "\n",
            " 11 0.02448965 0.02453843 0.02458721 -0.00002082\n",
            "\n",
            " 12 0.02453843 0.02456282 0.02458721 -0.00000586\n",
            "\n",
            " 13 0.02456282 0.02457501 0.02458721 0.00000162\n",
            "\n",
            " 14 0.02456282 0.02456891 0.02457501 -0.00000212\n",
            "\n",
            " 15 0.02456891 0.02457196 0.02457501 -0.00000025\n",
            "\n",
            " 16 0.02457196 0.02457349 0.02457501 0.00000068\n",
            "\n",
            "Se satisface la tolerancia\n",
            "La raíz aproxima es: 0.02457349\n",
            "La velocidad de sedimentación es: 0.024573487854003907 m/s\n"
          ]
        }
      ],
      "source": [
        "# Datos del problema.calcula la velocidad de sedimentación de una partícula en un fluido utilizando la ecuación de Newton para la velocidad de sedimentación y ajustes para manejar números de Reynolds cercanos a cero.\n",
        "d = 0.0002  # diámetro de la partícula [m]\n",
        "rho_p = 2650  # densidad de la partícula [kg/m³]\n",
        "rho_f = 1000  # densidad del fluido [kg/m³]\n",
        "g = 9.81  # aceleración debido a la gravedad [m/s²]\n",
        "mu = 0.001  # viscosidad del fluido [Pa·s]\n",
        "\n",
        "\n",
        "# Función calcular_Cd para manejar Re cercano a cero\n",
        "def calcular_Cd(Re):\n",
        "    if Re == 0:\n",
        "        return float('inf')  # Retornar un valor grande para evitar la división por cero\n",
        "    return 24/Re + 6/(1 + np.sqrt(Re)) + 0.4\n",
        "\n",
        "# Función de velocidad de Newton para utilizar calcular_Cd_ajustado\n",
        "def velocidad_Newton(d, rho_p, rho_f, g, mu, v):\n",
        "    Re = (rho_f * v * d) / mu\n",
        "    Cd = calcular_Cd(Re)\n",
        "    return np.sqrt((4 * d * (rho_p - rho_f) * g) / (3 * Cd * rho_f))\n",
        "\n",
        "# Función objetivo ajustada para utilizar velocidad_Newton_ajustada\n",
        "def funcion_objetivo(v):\n",
        "    return v - velocidad_Newton(d, rho_p, rho_f, g, mu, v)\n",
        "\n",
        "# Derivada numérica de la función objetivo ajustada\n",
        "def derivada_funcion_objetivo(v):\n",
        "    delta_v = 1e-6\n",
        "    return (funcion_objetivo(v + delta_v) - funcion_objetivo(v)) / delta_v\n",
        "\n",
        "\n",
        "# Reintentar el método de bisección y Newton con ajustes\n",
        "v_biseccion = biseccion(funcion_objetivo, 0.0001, 0.1, 1e-6, 100)\n",
        "\n",
        "print(f\"La velocidad de sedimentación es: {v_biseccion} m/s\")"
      ]
    },
    {
      "cell_type": "markdown",
      "metadata": {
        "id": "xMwAIvySji_R"
      },
      "source": [
        "# Punto 5"
      ]
    },
    {
      "cell_type": "code",
      "execution_count": 7,
      "metadata": {
        "id": "gCYfyKzgji_S",
        "outputId": "cb0d9e93-e2ac-487f-b9cb-8e218201bfbf",
        "colab": {
          "base_uri": "https://localhost:8080/"
        }
      },
      "outputs": [
        {
          "output_type": "stream",
          "name": "stdout",
          "text": [
            "Método iterativo de Newton:\n",
            "\n",
            "  It.         x            y  \n",
            "\n",
            "  1      0.49422755     -1.92728401\n",
            "\n",
            "  2      0.59641430      0.68777181\n",
            "\n",
            "  3      0.60233655      0.03577013\n",
            "\n",
            "  4      0.60235546      0.00011350\n",
            "\n",
            "  5      0.60235546      0.00000000\n",
            "\n",
            "Se satisface la tolerancia.\n",
            "\n",
            "La raíz aproxima es: 0.60235546\n",
            "Distancia a la concentración de 5 mg/L (Newton): 0.602 km\n"
          ]
        }
      ],
      "source": [
        "initial_guess = 1.0  # Definición adecuada de una estimación inicial.Este código utiliza el método de Newton para encontrar la distancia a la cual la concentración de oxígeno en un cuerpo de agua alcanza los 5 mg/L.\n",
        "\n",
        "# Definición de la función de concentración de oxígeno y la función objetivo\n",
        "def oxygen_concentration(x):\n",
        "    return 10 - 20 * (np.exp(-0.2 * x) - np.exp(-0.75 * x))\n",
        "\n",
        "def root_function(x):\n",
        "    return oxygen_concentration(x) - 5\n",
        "\n",
        "\n",
        "# Derivada de la función de concentración de oxígeno para uso en el método de Newton\n",
        "def derivative_oxygen_concentration(x):\n",
        "    return 4 * np.exp(-0.2 * x) - 15 * np.exp(-0.75 * x)\n",
        "\n",
        "# Método de Newton para encontrar la distancia a la concentración de 5 mg/L\n",
        "x_distance_5mg_newton = newton(root_function, derivative_oxygen_concentration, initial_guess, 1e-6, 100)\n",
        "\n",
        "print(f\"Distancia a la concentración de 5 mg/L (Newton): {x_distance_5mg_newton:.3f} km\")"
      ]
    },
    {
      "cell_type": "markdown",
      "metadata": {
        "id": "6vVWgTJbji_S"
      },
      "source": [
        "# Puinto 6"
      ]
    },
    {
      "cell_type": "code",
      "execution_count": 8,
      "metadata": {
        "id": "GNopqjL5ji_T",
        "outputId": "cc1b1ffd-cb4d-45c2-d68d-01e6adaf9f9a",
        "colab": {
          "base_uri": "https://localhost:8080/",
          "height": 852
        }
      },
      "outputs": [
        {
          "output_type": "stream",
          "name": "stdout",
          "text": [
            "Método iterativo de Newton:\n",
            "\n",
            "  It.         x            y  \n",
            "\n",
            "  1      3.69337148     -2.23818123\n",
            "\n",
            "  2      3.98189621      0.45551923\n",
            "\n",
            "  3      4.00156321      0.02751951\n",
            "\n",
            "  4      4.00163407      0.00009844\n",
            "\n",
            "  5      4.00163407      0.00000000\n",
            "\n",
            "Se satisface la tolerancia.\n",
            "\n",
            "La raíz aproxima es: 4.00163407\n",
            "El tiempo necesario para que la concentración de bacterias se reduzca a 15 mg/L es: 4.00 horas\n"
          ]
        },
        {
          "output_type": "execute_result",
          "data": {
            "text/plain": [
              "<matplotlib.collections.PathCollection at 0x7e6aac151090>"
            ]
          },
          "metadata": {},
          "execution_count": 8
        },
        {
          "output_type": "display_data",
          "data": {
            "text/plain": [
              "<Figure size 1000x600 with 1 Axes>"
            ],
            "image/png": "[encoded data removed]"
          },
          "metadata": {}
        }
      ],
      "source": [
        "# Definir la función de concentración de bacterias en función del tiempo.Este código calcula el tiempo necesario para que la concentración de bacterias en un medio acuoso alcance los 15 mg/L, utilizando el método de Newton\n",
        "def bacteria_concentration(t):\n",
        "    return 75 * np.exp(-1.5 * t) + 20 * np.exp(-0.075 * t)\n",
        "\n",
        "# Derivada de la función para calcular la concentración de bacterias\n",
        "def derivative_bacteria_concentration(t):\n",
        "    return -75 * 1.5 * np.exp(-1.5 * t) - 20 * 0.075 * np.exp(-0.075 * t)\n",
        "\n",
        "# Paso 1: Generar una serie de valores de tiempo (t) para el gráfico\n",
        "time_values = np.linspace(0, 10, 400)  # Asumimos un rango de 0 a 10 para visualizar\n",
        "\n",
        "# Función objetivo ajustada para cuando queremos que la concentración sea 15\n",
        "def func_to_solve(t):\n",
        "    return bacteria_concentration(t) - 15\n",
        "\n",
        "# Aplicar el método de Newton para encontrar el valor de t\n",
        "initial_guess_newton = 6  # Valor inicial\n",
        "time_to_reach_15_newton = newton(func_to_solve, derivative_bacteria_concentration, initial_guess_newton, 1e-6, 100)\n",
        "\n",
        "# Resultado\n",
        "print(f\"El tiempo necesario para que la concentración de bacterias se reduzca a 15 mg/L es: {time_to_reach_15_newton:.2f} horas\")\n",
        "\n",
        "# Mostrar el gráfico\n",
        "plt.figure(figsize=(10, 6))\n",
        "plt.plot(time_values, bacteria_concentration(time_values), label='Concentración de Bacterias')\n",
        "plt.axhline(y=15, color='r', linestyle='--', label='Concentración objetivo (15)')\n",
        "plt.scatter(time_to_reach_15_newton, 15, color='g', label=f'Tiempo alcanzado: {time_to_reach_15_newton:.2f} horas')"
      ]
    },
    {
      "cell_type": "code",
      "execution_count": null,
      "metadata": {
        "id": "4QobGhmdji_U",
        "outputId": "c25889bd-f8c2-4f05-bbff-656ff6d30a7e"
      },
      "outputs": [
        {
          "name": "stdout",
          "output_type": "stream",
          "text": [
            "1e-06\n"
          ]
        }
      ],
      "source": [
        "print(0.000001)"
      ]
    },
    {
      "cell_type": "markdown",
      "metadata": {
        "id": "V_3DTyruji_V"
      },
      "source": [
        "# Punto 7"
      ]
    },
    {
      "cell_type": "code",
      "execution_count": 9,
      "metadata": {
        "id": "o796z4xJji_V",
        "outputId": "4cba68f0-86c1-4a66-96ce-aa41fccdaa7f",
        "colab": {
          "base_uri": "https://localhost:8080/"
        }
      },
      "outputs": [
        {
          "output_type": "stream",
          "name": "stdout",
          "text": [
            "Método de la bisección:\n",
            "  It.     a        c         b         Y(c)\n",
            "\n",
            "  1 1.00000000 5000.50000000 10000.00000000 -12.49816657\n",
            "\n",
            "  2 1.00000000 2500.75000000 5000.50000000 -9.98482567\n",
            "\n",
            "  3 1.00000000 1250.87500000 2500.75000000 -4.87323073\n",
            "\n",
            "  4 1.00000000 625.93750000 1250.87500000 6.05477080\n",
            "\n",
            "  5 625.93750000 938.40625000 1250.87500000 -1.36141116\n",
            "\n",
            "  6 625.93750000 782.17187500 938.40625000 1.53281387\n",
            "\n",
            "  7 782.17187500 860.28906250 938.40625000 -0.05635528\n",
            "\n",
            "  8 782.17187500 821.23046875 860.28906250 0.69710082\n",
            "\n",
            "  9 821.23046875 840.75976562 860.28906250 0.31088388\n",
            "\n",
            " 10 840.75976562 850.52441406 860.28906250 0.12498230\n",
            "\n",
            " 11 850.52441406 855.40673828 860.28906250 0.03375378\n",
            "\n",
            " 12 855.40673828 857.84790039 860.28906250 -0.01143936\n",
            "\n",
            " 13 855.40673828 856.62731934 857.84790039 0.01112239\n",
            "\n",
            " 14 856.62731934 857.23760986 857.84790039 -0.00016717\n",
            "\n",
            " 15 856.62731934 856.93246460 857.23760986 0.00547544\n",
            "\n",
            " 16 856.93246460 857.08503723 857.23760986 0.00265359\n",
            "\n",
            " 17 857.08503723 857.16132355 857.23760986 0.00124308\n",
            "\n",
            " 18 857.16132355 857.19946671 857.23760986 0.00053792\n",
            "\n",
            " 19 857.19946671 857.21853828 857.23760986 0.00018537\n",
            "\n",
            " 20 857.21853828 857.22807407 857.23760986 0.00000910\n",
            "\n",
            " 21 857.22807407 857.23284197 857.23760986 -0.00007904\n",
            "\n",
            " 22 857.22807407 857.23045802 857.23284197 -0.00003497\n",
            "\n",
            " 23 857.22807407 857.22926605 857.23045802 -0.00001294\n",
            "\n",
            " 24 857.22807407 857.22867006 857.22926605 -0.00000192\n",
            "\n",
            " 25 857.22807407 857.22837207 857.22867006 0.00000359\n",
            "\n",
            " 26 857.22837207 857.22852106 857.22867006 0.00000083\n",
            "\n",
            " 27 857.22852106 857.22859556 857.22867006 -0.00000054\n",
            "\n",
            " 28 857.22852106 857.22855831 857.22859556 0.00000015\n",
            "\n",
            " 29 857.22855831 857.22857694 857.22859556 -0.00000020\n",
            "\n",
            " 30 857.22855831 857.22856763 857.22857694 -0.00000003\n",
            "\n",
            " 31 857.22855831 857.22856297 857.22856763 0.00000006\n",
            "\n",
            " 32 857.22856297 857.22856530 857.22856763 0.00000002\n",
            "\n",
            " 33 857.22856530 857.22856646 857.22856763 -0.00000001\n",
            "\n",
            "Se satisface la tolerancia\n",
            "La raíz aproxima es: 857.22856646\n"
          ]
        }
      ],
      "source": [
        "# Definir los parámetros del problema y la función objetivo. Este código busca encontrar la tensión mínima necesaria en un cable para que tenga una altura de 15 unidades en una distancia horizontal de 50 unidades, dado que el cable está sometido a una carga uniforme por unidad de longitud de 10 unidades.\n",
        "\n",
        "w = 10  # Carga uniforme por unidad de longitud del cable\n",
        "y = 15  # Altura deseada del cable en x = 50\n",
        "x = 50  # Distancia horizontal dada\n",
        "TA_lower_limit = 1  # Límite inferior de TA\n",
        "TA_upper_limit = 10000  # Límite superior de TA\n",
        "\n",
        "def objective_function(TA):\n",
        "    if TA <= 0:\n",
        "        return float('inf')  # Evitar valores de TA no positivos\n",
        "    else:\n",
        "        # Calculamos la altura del cable para el valor actual de TA y x = 50\n",
        "        height = (TA / w) * np.cosh(w / TA * x) - (TA / w)\n",
        "        # Devolvemos la diferencia entre la altura calculada y la deseada\n",
        "        return height - y\n",
        "\n",
        "# Reaplicar el método de bisección para encontrar el valor de TA\n",
        "TA_solution = biseccion(objective_function, TA_lower_limit, TA_upper_limit, 1e-6, 100)"
      ]
    },
    {
      "cell_type": "markdown",
      "metadata": {
        "id": "aKW-_LDIji_X"
      },
      "source": [
        "# Punto 8"
      ]
    },
    {
      "cell_type": "code",
      "execution_count": 10,
      "metadata": {
        "id": "XhqmaXZ5ji_Y",
        "outputId": "8b263750-6e0f-4d61-f93d-707302d18a42",
        "colab": {
          "base_uri": "https://localhost:8080/"
        }
      },
      "outputs": [
        {
          "output_type": "stream",
          "name": "stdout",
          "text": [
            "Método de la bisección:\n",
            "  It.     a        c         b         Y(c)\n",
            "\n",
            "  1 673.15000000 823.15000000 973.15000000 2419.64890671\n",
            "\n",
            "  2 673.15000000 748.15000000 823.15000000 -299.80803072\n",
            "\n",
            "  3 748.15000000 785.65000000 823.15000000 1008.06888891\n",
            "\n",
            "  4 748.15000000 766.90000000 785.65000000 341.37966596\n",
            "\n",
            "  5 748.15000000 757.52500000 766.90000000 17.62464235\n",
            "\n",
            "  6 748.15000000 752.83750000 757.52500000 -141.87867356\n",
            "\n",
            "  7 752.83750000 755.18125000 757.52500000 -62.32417475\n",
            "\n",
            "  8 755.18125000 756.35312500 757.52500000 -22.39910778\n",
            "\n",
            "  9 756.35312500 756.93906250 757.52500000 -2.39957458\n",
            "\n",
            " 10 756.93906250 757.23203125 757.52500000 7.60944761\n",
            "\n",
            " 11 756.93906250 757.08554687 757.23203125 2.60416505\n",
            "\n",
            " 12 756.93906250 757.01230469 757.08554687 0.10210238\n",
            "\n",
            " 13 756.93906250 756.97568359 757.01230469 -1.14878431\n",
            "\n",
            " 14 756.97568359 756.99399414 757.01230469 -0.52335302\n",
            "\n",
            " 15 756.99399414 757.00314941 757.01230469 -0.21062833\n",
            "\n",
            " 16 757.00314941 757.00772705 757.01230469 -0.05426373\n",
            "\n",
            " 17 757.00772705 757.01001587 757.01230469 0.02391914\n",
            "\n",
            " 18 757.00772705 757.00887146 757.01001587 -0.01517235\n",
            "\n",
            " 19 757.00887146 757.00944366 757.01001587 0.00437338\n",
            "\n",
            " 20 757.00887146 757.00915756 757.00944366 -0.00539948\n",
            "\n",
            " 21 757.00915756 757.00930061 757.00944366 -0.00051305\n",
            "\n",
            " 22 757.00930061 757.00937214 757.00944366 0.00193017\n",
            "\n",
            " 23 757.00930061 757.00933638 757.00937214 0.00070856\n",
            "\n",
            " 24 757.00930061 757.00931849 757.00933638 0.00009775\n",
            "\n",
            " 25 757.00930061 757.00930955 757.00931849 -0.00020765\n",
            "\n",
            " 26 757.00930955 757.00931402 757.00931849 -0.00005495\n",
            "\n",
            " 27 757.00931402 757.00931626 757.00931849 0.00002140\n",
            "\n",
            " 28 757.00931402 757.00931514 757.00931626 -0.00001677\n",
            "\n",
            "Se satisface la tolerancia\n",
            "La raíz aproxima es: 757.00931514\n",
            "La temperatura final de los fluidos en el mezclador (aproximación) es: 483.86 °C\n"
          ]
        }
      ],
      "source": [
        "# Capacidades caloríficas de los fluidos como funciones de la temperatura (T).Este código calcula la temperatura final de dos fluidos (A y B) al mezclarse, utilizando el método de bisección para encontrar el equilibrio de entalpía entre los fluidos. Aquí está la explicación de cada parte\n",
        "def cp_A(T):\n",
        "    return 3.381 + 1.804e-2 * T - 4.300e-6 * T**2\n",
        "\n",
        "def cp_B(T):\n",
        "    return 8.592 + 1.290e-2 * T - 4.078e-5 * T**2\n",
        "\n",
        "# Establecer las temperaturas iniciales de los fluidos A y B en Kelvin\n",
        "T_A1 = 400 + 273.15  # Temperatura inicial del fluido A en K\n",
        "T_B1 = 700 + 273.15  # Temperatura inicial del fluido B en K\n",
        "\n",
        "# Aproximación de la integral utilizando sumas discretas (método del trapecio)\n",
        "def approximate_integral(cp_function, T_start, T_end, num_steps=1000):\n",
        "    T_range = np.linspace(T_start, T_end, num_steps)\n",
        "    cp_values = cp_function(T_range)\n",
        "    integral_approximation = np.trapz(cp_values, T_range)\n",
        "    return integral_approximation\n",
        "\n",
        "# Definir la función para el balance de entalpía entre los fluidos\n",
        "def enthalpy_difference_approx(T_f):\n",
        "    delta_H_A = approximate_integral(cp_A, T_A1, T_f)\n",
        "    delta_H_B = approximate_integral(cp_B, T_B1, T_f)\n",
        "    return 2 * delta_H_A - delta_H_B  # Ajustado para balancear la entalpía entre los fluidos\n",
        "\n",
        "# Utilizar el método de bisección para encontrar la temperatura final (T_f)\n",
        "T_initial_guess_low = min(T_A1, T_B1)  # Temperatura inicial baja para la bisección\n",
        "T_initial_guess_high = max(T_A1, T_B1)  # Temperatura inicial alta para la bisección\n",
        "\n",
        "T_final_approx = biseccion(enthalpy_difference_approx, T_initial_guess_low, T_initial_guess_high, 1e-6, 100)\n",
        "\n",
        "# Convertir la temperatura final aproximada a grados Celsius\n",
        "T_final_Celsius_approx = T_final_approx - 273.15\n",
        "\n",
        "print(f\"La temperatura final de los fluidos en el mezclador (aproximación) es: {T_final_Celsius_approx:.2f} °C\")"
      ]
    },
    {
      "cell_type": "markdown",
      "metadata": {
        "id": "BWcfWUDKji_Z"
      },
      "source": [
        "# Punto 9"
      ]
    },
    {
      "cell_type": "code",
      "execution_count": 11,
      "metadata": {
        "id": "CcsmnZ8Vji_Z",
        "outputId": "d550ed54-3ce3-4d3a-f278-78dbfe1b1b58",
        "colab": {
          "base_uri": "https://localhost:8080/"
        }
      },
      "outputs": [
        {
          "output_type": "stream",
          "name": "stdout",
          "text": [
            "Método de la bisección:\n",
            "  It.     a        c         b         Y(c)\n",
            "\n",
            "  1 1000.00000000 3000.00000000 5000.00000000 -1.82430100\n",
            "\n",
            "  2 3000.00000000 4000.00000000 5000.00000000 -1.10670200\n",
            "\n",
            "  3 4000.00000000 4500.00000000 5000.00000000 -0.20229400\n",
            "\n",
            "  4 4500.00000000 4750.00000000 5000.00000000 0.45894653\n",
            "\n",
            "  5 4500.00000000 4625.00000000 4750.00000000 0.10843505\n",
            "\n",
            "  6 4500.00000000 4562.50000000 4625.00000000 -0.05170887\n",
            "\n",
            "  7 4562.50000000 4593.75000000 4625.00000000 0.02714434\n",
            "\n",
            "  8 4562.50000000 4578.12500000 4593.75000000 -0.01258395\n",
            "\n",
            "  9 4578.12500000 4585.93750000 4593.75000000 0.00720440\n",
            "\n",
            " 10 4578.12500000 4582.03125000 4585.93750000 -0.00270867\n",
            "\n",
            " 11 4582.03125000 4583.98437500 4585.93750000 0.00224313\n",
            "\n",
            " 12 4582.03125000 4583.00781250 4583.98437500 -0.00023395\n",
            "\n",
            " 13 4583.00781250 4583.49609375 4583.98437500 0.00100429\n",
            "\n",
            " 14 4583.00781250 4583.25195312 4583.49609375 0.00038510\n",
            "\n",
            " 15 4583.00781250 4583.12988281 4583.25195312 0.00007555\n",
            "\n",
            " 16 4583.00781250 4583.06884766 4583.12988281 -0.00007920\n",
            "\n",
            " 17 4583.06884766 4583.09936523 4583.12988281 -0.00000183\n",
            "\n",
            " 18 4583.09936523 4583.11462402 4583.12988281 0.00003686\n",
            "\n",
            " 19 4583.09936523 4583.10699463 4583.11462402 0.00001752\n",
            "\n",
            " 20 4583.09936523 4583.10317993 4583.10699463 0.00000785\n",
            "\n",
            " 21 4583.09936523 4583.10127258 4583.10317993 0.00000301\n",
            "\n",
            " 22 4583.09936523 4583.10031891 4583.10127258 0.00000059\n",
            "\n",
            " 23 4583.09936523 4583.09984207 4583.10031891 -0.00000062\n",
            "\n",
            " 24 4583.09984207 4583.10008049 4583.10031891 -0.00000001\n",
            "\n",
            " 25 4583.10008049 4583.10019970 4583.10031891 0.00000029\n",
            "\n",
            " 26 4583.10008049 4583.10014009 4583.10019970 0.00000014\n",
            "\n",
            " 27 4583.10008049 4583.10011029 4583.10014009 0.00000006\n",
            "\n",
            " 28 4583.10008049 4583.10009539 4583.10011029 0.00000002\n",
            "\n",
            " 29 4583.10008049 4583.10008794 4583.10009539 0.00000001\n",
            "\n",
            " 30 4583.10008049 4583.10008422 4583.10008794 -0.00000000\n",
            "\n",
            " 31 4583.10008422 4583.10008608 4583.10008794 0.00000000\n",
            "\n",
            "Se satisface la tolerancia\n",
            "La raíz aproxima es: 4583.10008608\n",
            "La temperatura que corresponde a un calor específico de 1.2 kJ/(kgK) es: 4583.10 K\n"
          ]
        }
      ],
      "source": [
        "#Este código recalcula la temperatura correspondiente a un calor específico de 1.2 kJ/(kgK) para el aire seco, utilizando el método de bisección. Aquí está la explicación de cada parte\n",
        "T_lower_limit = 1000  # Límite inferior razonable para la temperatura en Kelvin\n",
        "T_upper_limit = 5000  # Límite superior razonable para la temperatura en Kelvin\n",
        "\n",
        "# Redefinición de la función que representa el calor específico a presión cero del aire seco\n",
        "def cp_polynomial(T):\n",
        "    return (-0.99403 + 1.671e-4 * T + 9.7215e-8 * T**2 -\n",
        "            9.5838e-11 * T**3 + 1.9520e-14 * T**4)\n",
        "\n",
        "# Redefinición de la función para la cual queremos encontrar la raíz (cp = 1.2)\n",
        "def cp_difference(T):\n",
        "    return cp_polynomial(T) - 1.2\n",
        "\n",
        "# Reaplicar el método de bisección para encontrar la temperatura que corresponde a un calor específico de 1.2 kJ/(kgK)\n",
        "T_final_biseccion = biseccion(cp_difference, T_lower_limit, T_upper_limit, 1e-6, 100)\n",
        "\n",
        "print(f\"La temperatura que corresponde a un calor específico de 1.2 kJ/(kgK) es: {T_final_biseccion:.2f} K\")"
      ]
    },
    {
      "cell_type": "markdown",
      "metadata": {
        "id": "ppXYLuKhji_a"
      },
      "source": [
        "# Punto 10"
      ]
    },
    {
      "cell_type": "code",
      "execution_count": 12,
      "metadata": {
        "id": "DEGFXscOji_b",
        "outputId": "07a57420-c5ff-4974-9a87-996b4e39ca51",
        "colab": {
          "base_uri": "https://localhost:8080/"
        }
      },
      "outputs": [
        {
          "output_type": "stream",
          "name": "stdout",
          "text": [
            "Método iterativo de Newton:\n",
            "\n",
            "  It.         x            y  \n",
            "\n",
            "  1      0.80866540      0.15534654\n",
            "\n",
            "  2      0.85055132     -0.03256519\n",
            "\n",
            "  3      0.85180044     -0.00091712\n",
            "\n",
            "  4      0.85180150     -0.00000078\n",
            "\n",
            "  5      0.85180150     -0.00000000\n",
            "\n",
            "Se satisface la tolerancia.\n",
            "\n",
            "La raíz aproxima es: 0.85180150\n",
            "La eficiencia politrópica n del compresor es aproximadamente: 0.8518\n"
          ]
        }
      ],
      "source": [
        "# Razón de compresión y otros parámetros proporcionados.Este código calcula la eficiencia politrópica eficiencia de un compresor de acuerdo con la ecuación politrópica de compresión de gases\n",
        "R_c = 3.0  # Razón de compresión\n",
        "z = 1.2  # Compresibilidad del gas\n",
        "R = 8.314  # Constante de los gases ideal en J/(mol·K)\n",
        "T1 = 300 + 273.15  # Temperatura del gas en la entrada del compresor en K\n",
        "MW = 28.97  # Peso molecular del gas (aire) en g/mol\n",
        "\n",
        "# Al asumir que la energía del compresor es igual a zRT1/MW\n",
        "# permite que estos términos se cancelen de ambos lados de la ecuación original\n",
        "# al resolver para n, no necesitamos estos valores\n",
        "\n",
        "# Función a resolver\n",
        "def f(n):\n",
        "    if n == 1:  # Evitar la división por cero\n",
        "        return float('inf') # Número decimal\n",
        "    return (n / (n - 1)) * (R_c**((n - 1) / n) - 1) - 1\n",
        "\n",
        "# Aproximación numérica de la derivada de f(n)\n",
        "def derivative_f(n, delta_n=1e-6):\n",
        "    return (f(n + delta_n) - f(n)) / delta_n\n",
        "\n",
        "# Aplicar el método de Newton para encontrar la eficiencia politrópica n\n",
        "n_politropica_newton = newton(f, lambda n: derivative_f(n), 1.1, 1e-6, 100)\n",
        "\n",
        "# Mostrar el resultado\n",
        "print(f\"La eficiencia politrópica n del compresor es aproximadamente: {n_politropica_newton:.4f}\")"
      ]
    },
    {
      "cell_type": "code",
      "execution_count": null,
      "metadata": {
        "id": "Xqw28KsNji_c"
      },
      "outputs": [],
      "source": []
    }
  ],
  "metadata": {
    "kernelspec": {
      "display_name": "base",
      "language": "python",
      "name": "python3"
    },
    "language_info": {
      "codemirror_mode": {
        "name": "ipython",
        "version": 3
      },
      "file_extension": ".py",
      "mimetype": "text/x-python",
      "name": "python",
      "nbconvert_exporter": "python",
      "pygments_lexer": "ipython3",
      "version": "3.10.9"
    },
    "colab": {
      "provenance": [],
      "include_colab_link": true
    }
  },
  "nbformat": 4,
  "nbformat_minor": 0
}